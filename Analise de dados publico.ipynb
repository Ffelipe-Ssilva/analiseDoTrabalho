{
 "cells": [
  {
   "cell_type": "markdown",
   "metadata": {},
   "source": [
    "#### Os dados, até a data do presente estudo, estão no https://covid.saude.gov.br/\n",
    "#### O presente arquivo é de domingo, 07 de julho. Atenção: de acordo com o dia em que for feita a análise, a última barra da totalização por semana estará menor.\n",
    "#### Disclaimer/Aviso Legal: Este notebook tem um fim única e exclusivamente didático, para alunos da FATEC, como uma introdução à Análise de Dados Públicos. Desse modo, está excluída a garantia ou responsabilidade de qualquer tipo, por exemplo, de precisão, confiabilidade, completude e atualidade das informações."
   ]
  },
  {
   "cell_type": "code",
   "execution_count": 1,
   "metadata": {},
   "outputs": [],
   "source": [
    "import pandas as pd\n",
    "low_memory=False\n",
    "import matplotlib.pyplot as plt\n",
    "%matplotlib inline\n",
    "pd.options.display.max_columns = 80\n",
    "pd.options.display.max_rows = 90"
   ]
  },
  {
   "cell_type": "code",
   "execution_count": 2,
   "metadata": {
    "scrolled": true
   },
   "outputs": [],
   "source": [
    "filename = r'C:\\Users\\Daniel\\HIST_PAINEL_COVIDBR_09jul2020.xlsx'\n",
    "df = pd.read_excel(filename)"
   ]
  },
  {
   "cell_type": "code",
   "execution_count": 3,
   "metadata": {},
   "outputs": [
    {
     "data": {
      "text/plain": [
       "(574483, 17)"
      ]
     },
     "execution_count": 3,
     "metadata": {},
     "output_type": "execute_result"
    }
   ],
   "source": [
    "df.shape"
   ]
  },
  {
   "cell_type": "code",
   "execution_count": 4,
   "metadata": {},
   "outputs": [
    {
     "name": "stdout",
     "output_type": "stream",
     "text": [
      "<class 'pandas.core.frame.DataFrame'>\n",
      "RangeIndex: 574483 entries, 0 to 574482\n",
      "Data columns (total 17 columns):\n",
      " #   Column                  Non-Null Count   Dtype         \n",
      "---  ------                  --------------   -----         \n",
      " 0   regiao                  574483 non-null  object        \n",
      " 1   estado                  574347 non-null  object        \n",
      " 2   municipio               568470 non-null  object        \n",
      " 3   coduf                   574483 non-null  int64         \n",
      " 4   codmun                  570675 non-null  float64       \n",
      " 5   codRegiaoSaude          568470 non-null  float64       \n",
      " 6   nomeRegiaoSaude         568470 non-null  object        \n",
      " 7   data                    574483 non-null  datetime64[ns]\n",
      " 8   semanaEpi               574483 non-null  int64         \n",
      " 9   populacaoTCU2019        572278 non-null  object        \n",
      " 10  casosAcumulado          574483 non-null  int64         \n",
      " 11  casosNovos              574483 non-null  int64         \n",
      " 12  obitosAcumulado         574483 non-null  int64         \n",
      " 13  obitosNovos             574483 non-null  int64         \n",
      " 14  Recuperadosnovos        82 non-null      float64       \n",
      " 15  emAcompanhamentoNovos   82 non-null      float64       \n",
      " 16  interior/metropolitana  568470 non-null  float64       \n",
      "dtypes: datetime64[ns](1), float64(5), int64(6), object(5)\n",
      "memory usage: 63.6+ MB\n"
     ]
    }
   ],
   "source": [
    "df.info()"
   ]
  },
  {
   "cell_type": "code",
   "execution_count": 5,
   "metadata": {
    "scrolled": true
   },
   "outputs": [
    {
     "data": {
      "text/html": [
       "<div>\n",
       "<style scoped>\n",
       "    .dataframe tbody tr th:only-of-type {\n",
       "        vertical-align: middle;\n",
       "    }\n",
       "\n",
       "    .dataframe tbody tr th {\n",
       "        vertical-align: top;\n",
       "    }\n",
       "\n",
       "    .dataframe thead th {\n",
       "        text-align: right;\n",
       "    }\n",
       "</style>\n",
       "<table border=\"1\" class=\"dataframe\">\n",
       "  <thead>\n",
       "    <tr style=\"text-align: right;\">\n",
       "      <th></th>\n",
       "      <th>regiao</th>\n",
       "      <th>estado</th>\n",
       "      <th>municipio</th>\n",
       "      <th>coduf</th>\n",
       "      <th>codmun</th>\n",
       "      <th>codRegiaoSaude</th>\n",
       "      <th>nomeRegiaoSaude</th>\n",
       "      <th>data</th>\n",
       "      <th>semanaEpi</th>\n",
       "      <th>populacaoTCU2019</th>\n",
       "      <th>casosAcumulado</th>\n",
       "      <th>casosNovos</th>\n",
       "      <th>obitosAcumulado</th>\n",
       "      <th>obitosNovos</th>\n",
       "      <th>Recuperadosnovos</th>\n",
       "      <th>emAcompanhamentoNovos</th>\n",
       "      <th>interior/metropolitana</th>\n",
       "    </tr>\n",
       "  </thead>\n",
       "  <tbody>\n",
       "    <tr>\n",
       "      <th>382538</th>\n",
       "      <td>Sudeste</td>\n",
       "      <td>SP</td>\n",
       "      <td>Narandiba</td>\n",
       "      <td>35</td>\n",
       "      <td>353220.0</td>\n",
       "      <td>35112.0</td>\n",
       "      <td>ALTA SOROCABANA</td>\n",
       "      <td>2020-07-05</td>\n",
       "      <td>28</td>\n",
       "      <td>4857</td>\n",
       "      <td>0</td>\n",
       "      <td>0</td>\n",
       "      <td>0</td>\n",
       "      <td>0</td>\n",
       "      <td>NaN</td>\n",
       "      <td>NaN</td>\n",
       "      <td>0.0</td>\n",
       "    </tr>\n",
       "    <tr>\n",
       "      <th>173243</th>\n",
       "      <td>Nordeste</td>\n",
       "      <td>PE</td>\n",
       "      <td>Moreilândia</td>\n",
       "      <td>26</td>\n",
       "      <td>261430.0</td>\n",
       "      <td>26007.0</td>\n",
       "      <td>OURICURI</td>\n",
       "      <td>2020-06-05</td>\n",
       "      <td>23</td>\n",
       "      <td>11270</td>\n",
       "      <td>2</td>\n",
       "      <td>0</td>\n",
       "      <td>0</td>\n",
       "      <td>0</td>\n",
       "      <td>NaN</td>\n",
       "      <td>NaN</td>\n",
       "      <td>0.0</td>\n",
       "    </tr>\n",
       "    <tr>\n",
       "      <th>233779</th>\n",
       "      <td>Nordeste</td>\n",
       "      <td>BA</td>\n",
       "      <td>Tanhaçu</td>\n",
       "      <td>29</td>\n",
       "      <td>293100.0</td>\n",
       "      <td>29003.0</td>\n",
       "      <td>BRUMADO</td>\n",
       "      <td>2020-04-17</td>\n",
       "      <td>16</td>\n",
       "      <td>20403</td>\n",
       "      <td>0</td>\n",
       "      <td>0</td>\n",
       "      <td>0</td>\n",
       "      <td>0</td>\n",
       "      <td>NaN</td>\n",
       "      <td>NaN</td>\n",
       "      <td>0.0</td>\n",
       "    </tr>\n",
       "    <tr>\n",
       "      <th>377438</th>\n",
       "      <td>Sudeste</td>\n",
       "      <td>SP</td>\n",
       "      <td>Lupércio</td>\n",
       "      <td>35</td>\n",
       "      <td>352780.0</td>\n",
       "      <td>35093.0</td>\n",
       "      <td>MARILIA</td>\n",
       "      <td>2020-05-06</td>\n",
       "      <td>19</td>\n",
       "      <td>4584</td>\n",
       "      <td>0</td>\n",
       "      <td>0</td>\n",
       "      <td>0</td>\n",
       "      <td>0</td>\n",
       "      <td>NaN</td>\n",
       "      <td>NaN</td>\n",
       "      <td>0.0</td>\n",
       "    </tr>\n",
       "    <tr>\n",
       "      <th>242262</th>\n",
       "      <td>Sudeste</td>\n",
       "      <td>MG</td>\n",
       "      <td>Arcos</td>\n",
       "      <td>31</td>\n",
       "      <td>310420.0</td>\n",
       "      <td>31087.0</td>\n",
       "      <td>LAGOA DA PRATA/STO ANT DO MONTE</td>\n",
       "      <td>2020-07-09</td>\n",
       "      <td>28</td>\n",
       "      <td>40092</td>\n",
       "      <td>66</td>\n",
       "      <td>3</td>\n",
       "      <td>1</td>\n",
       "      <td>0</td>\n",
       "      <td>NaN</td>\n",
       "      <td>NaN</td>\n",
       "      <td>0.0</td>\n",
       "    </tr>\n",
       "    <tr>\n",
       "      <th>446964</th>\n",
       "      <td>Sul</td>\n",
       "      <td>PR</td>\n",
       "      <td>São Tomé</td>\n",
       "      <td>41</td>\n",
       "      <td>412610.0</td>\n",
       "      <td>41013.0</td>\n",
       "      <td>13ª RS CIANORTE</td>\n",
       "      <td>2020-05-22</td>\n",
       "      <td>21</td>\n",
       "      <td>5722</td>\n",
       "      <td>0</td>\n",
       "      <td>0</td>\n",
       "      <td>0</td>\n",
       "      <td>0</td>\n",
       "      <td>NaN</td>\n",
       "      <td>NaN</td>\n",
       "      <td>0.0</td>\n",
       "    </tr>\n",
       "    <tr>\n",
       "      <th>287635</th>\n",
       "      <td>Sudeste</td>\n",
       "      <td>MG</td>\n",
       "      <td>Medina</td>\n",
       "      <td>31</td>\n",
       "      <td>314140.0</td>\n",
       "      <td>31065.0</td>\n",
       "      <td>ITAOBIM</td>\n",
       "      <td>2020-04-08</td>\n",
       "      <td>15</td>\n",
       "      <td>20820</td>\n",
       "      <td>0</td>\n",
       "      <td>0</td>\n",
       "      <td>0</td>\n",
       "      <td>0</td>\n",
       "      <td>NaN</td>\n",
       "      <td>NaN</td>\n",
       "      <td>0.0</td>\n",
       "    </tr>\n",
       "    <tr>\n",
       "      <th>342555</th>\n",
       "      <td>Sudeste</td>\n",
       "      <td>RJ</td>\n",
       "      <td>Santa Maria Madalena</td>\n",
       "      <td>33</td>\n",
       "      <td>330460.0</td>\n",
       "      <td>33009.0</td>\n",
       "      <td>SERRANA</td>\n",
       "      <td>2020-04-13</td>\n",
       "      <td>16</td>\n",
       "      <td>10404</td>\n",
       "      <td>0</td>\n",
       "      <td>0</td>\n",
       "      <td>0</td>\n",
       "      <td>0</td>\n",
       "      <td>NaN</td>\n",
       "      <td>NaN</td>\n",
       "      <td>0.0</td>\n",
       "    </tr>\n",
       "    <tr>\n",
       "      <th>220544</th>\n",
       "      <td>Nordeste</td>\n",
       "      <td>BA</td>\n",
       "      <td>Medeiros Neto</td>\n",
       "      <td>29</td>\n",
       "      <td>292110.0</td>\n",
       "      <td>29026.0</td>\n",
       "      <td>TEIXEIRA DE FREITAS</td>\n",
       "      <td>2020-04-12</td>\n",
       "      <td>16</td>\n",
       "      <td>22688</td>\n",
       "      <td>1</td>\n",
       "      <td>0</td>\n",
       "      <td>0</td>\n",
       "      <td>0</td>\n",
       "      <td>NaN</td>\n",
       "      <td>NaN</td>\n",
       "      <td>0.0</td>\n",
       "    </tr>\n",
       "    <tr>\n",
       "      <th>160631</th>\n",
       "      <td>Nordeste</td>\n",
       "      <td>PE</td>\n",
       "      <td>Carnaíba</td>\n",
       "      <td>26</td>\n",
       "      <td>260390.0</td>\n",
       "      <td>26001.0</td>\n",
       "      <td>AFOGADOS DA INGAZEIRA</td>\n",
       "      <td>2020-05-24</td>\n",
       "      <td>22</td>\n",
       "      <td>19551</td>\n",
       "      <td>9</td>\n",
       "      <td>1</td>\n",
       "      <td>4</td>\n",
       "      <td>0</td>\n",
       "      <td>NaN</td>\n",
       "      <td>NaN</td>\n",
       "      <td>0.0</td>\n",
       "    </tr>\n",
       "  </tbody>\n",
       "</table>\n",
       "</div>"
      ],
      "text/plain": [
       "          regiao estado             municipio  coduf    codmun  \\\n",
       "382538   Sudeste     SP             Narandiba     35  353220.0   \n",
       "173243  Nordeste     PE           Moreilândia     26  261430.0   \n",
       "233779  Nordeste     BA               Tanhaçu     29  293100.0   \n",
       "377438   Sudeste     SP              Lupércio     35  352780.0   \n",
       "242262   Sudeste     MG                 Arcos     31  310420.0   \n",
       "446964       Sul     PR              São Tomé     41  412610.0   \n",
       "287635   Sudeste     MG                Medina     31  314140.0   \n",
       "342555   Sudeste     RJ  Santa Maria Madalena     33  330460.0   \n",
       "220544  Nordeste     BA         Medeiros Neto     29  292110.0   \n",
       "160631  Nordeste     PE              Carnaíba     26  260390.0   \n",
       "\n",
       "        codRegiaoSaude                  nomeRegiaoSaude       data  semanaEpi  \\\n",
       "382538         35112.0                  ALTA SOROCABANA 2020-07-05         28   \n",
       "173243         26007.0                         OURICURI 2020-06-05         23   \n",
       "233779         29003.0                          BRUMADO 2020-04-17         16   \n",
       "377438         35093.0                          MARILIA 2020-05-06         19   \n",
       "242262         31087.0  LAGOA DA PRATA/STO ANT DO MONTE 2020-07-09         28   \n",
       "446964         41013.0                  13ª RS CIANORTE 2020-05-22         21   \n",
       "287635         31065.0                          ITAOBIM 2020-04-08         15   \n",
       "342555         33009.0                          SERRANA 2020-04-13         16   \n",
       "220544         29026.0              TEIXEIRA DE FREITAS 2020-04-12         16   \n",
       "160631         26001.0            AFOGADOS DA INGAZEIRA 2020-05-24         22   \n",
       "\n",
       "       populacaoTCU2019  casosAcumulado  casosNovos  obitosAcumulado  \\\n",
       "382538             4857               0           0                0   \n",
       "173243            11270               2           0                0   \n",
       "233779            20403               0           0                0   \n",
       "377438             4584               0           0                0   \n",
       "242262            40092              66           3                1   \n",
       "446964             5722               0           0                0   \n",
       "287635            20820               0           0                0   \n",
       "342555            10404               0           0                0   \n",
       "220544            22688               1           0                0   \n",
       "160631            19551               9           1                4   \n",
       "\n",
       "        obitosNovos  Recuperadosnovos  emAcompanhamentoNovos  \\\n",
       "382538            0               NaN                    NaN   \n",
       "173243            0               NaN                    NaN   \n",
       "233779            0               NaN                    NaN   \n",
       "377438            0               NaN                    NaN   \n",
       "242262            0               NaN                    NaN   \n",
       "446964            0               NaN                    NaN   \n",
       "287635            0               NaN                    NaN   \n",
       "342555            0               NaN                    NaN   \n",
       "220544            0               NaN                    NaN   \n",
       "160631            0               NaN                    NaN   \n",
       "\n",
       "        interior/metropolitana  \n",
       "382538                     0.0  \n",
       "173243                     0.0  \n",
       "233779                     0.0  \n",
       "377438                     0.0  \n",
       "242262                     0.0  \n",
       "446964                     0.0  \n",
       "287635                     0.0  \n",
       "342555                     0.0  \n",
       "220544                     0.0  \n",
       "160631                     0.0  "
      ]
     },
     "execution_count": 5,
     "metadata": {},
     "output_type": "execute_result"
    }
   ],
   "source": [
    "df.sample(10)"
   ]
  },
  {
   "cell_type": "code",
   "execution_count": 6,
   "metadata": {},
   "outputs": [
    {
     "data": {
      "text/plain": [
       "estado\n",
       "SP    17118\n",
       "RJ    11115\n",
       "CE     6741\n",
       "PE     5409\n",
       "PA     5196\n",
       "AM     2985\n",
       "MA     2357\n",
       "BA     2328\n",
       "ES     1930\n",
       "MG     1445\n",
       "RN     1345\n",
       "AL     1230\n",
       "PB     1196\n",
       "PR      931\n",
       "MT      928\n",
       "SE      901\n",
       "PI      884\n",
       "RS      870\n",
       "DF      823\n",
       "GO      769\n",
       "RO      589\n",
       "AP      467\n",
       "SC      447\n",
       "AC      411\n",
       "RR      393\n",
       "TO      240\n",
       "MS      136\n",
       "Name: obitosAcumulado, dtype: int64"
      ]
     },
     "execution_count": 6,
     "metadata": {},
     "output_type": "execute_result"
    }
   ],
   "source": [
    "df.groupby('estado')['obitosAcumulado'].max().sort_values(ascending=False)"
   ]
  },
  {
   "cell_type": "code",
   "execution_count": 58,
   "metadata": {},
   "outputs": [
    {
     "data": {
      "text/plain": [
       "<matplotlib.axes._subplots.AxesSubplot at 0x17fd6b68>"
      ]
     },
     "execution_count": 58,
     "metadata": {},
     "output_type": "execute_result"
    },
    {
     "data": {
      "image/png": "[encoded data removed]",
      "text/plain": [
       "<Figure size 432x288 with 1 Axes>"
      ]
     },
     "metadata": {
      "needs_background": "light"
     },
     "output_type": "display_data"
    }
   ],
   "source": [
    "df.groupby('estado')['obitosAcumulado'].max().sort_values().tail(5).plot(kind='barh')"
   ]
  },
  {
   "cell_type": "code",
   "execution_count": 8,
   "metadata": {},
   "outputs": [],
   "source": [
    "df['data'] = df['data'].dt.strftime('%d/%m')"
   ]
  },
  {
   "cell_type": "code",
   "execution_count": 42,
   "metadata": {},
   "outputs": [
    {
     "data": {
      "text/plain": [
       "<matplotlib.axes._subplots.AxesSubplot at 0x58cf820>"
      ]
     },
     "execution_count": 42,
     "metadata": {},
     "output_type": "execute_result"
    },
    {
     "data": {
      "image/png": "[encoded data removed]",
      "text/plain": [
       "<Figure size 432x288 with 1 Axes>"
      ]
     },
     "metadata": {
      "needs_background": "light"
     },
     "output_type": "display_data"
    }
   ],
   "source": [
    "sp = df.query('municipio == \"Belo Horizonte\"')\n",
    "sp.tail(10).plot(kind='bar', title = 'Casos novos em Belo Horizonte',\n",
    "        x='data', y='casosNovos')"
   ]
  },
  {
   "cell_type": "code",
   "execution_count": 41,
   "metadata": {},
   "outputs": [
    {
     "data": {
      "text/plain": [
       "<matplotlib.axes._subplots.AxesSubplot at 0x587c130>"
      ]
     },
     "execution_count": 41,
     "metadata": {},
     "output_type": "execute_result"
    },
    {
     "data": {
      "image/png": "[encoded data removed]",
      "text/plain": [
       "<Figure size 432x288 with 1 Axes>"
      ]
     },
     "metadata": {
      "needs_background": "light"
     },
     "output_type": "display_data"
    }
   ],
   "source": [
    "sp.groupby('semanaEpi')['casosNovos'].sum().plot(kind='bar',title = 'Casos novos no pais')"
   ]
  },
  {
   "cell_type": "code",
   "execution_count": 44,
   "metadata": {},
   "outputs": [
    {
     "data": {
      "text/plain": [
       "<matplotlib.axes._subplots.AxesSubplot at 0x594f958>"
      ]
     },
     "execution_count": 44,
     "metadata": {},
     "output_type": "execute_result"
    },
    {
     "data": {
      "image/png": "[encoded data removed]",
      "text/plain": [
       "<Figure size 432x288 with 1 Axes>"
      ]
     },
     "metadata": {
      "needs_background": "light"
     },
     "output_type": "display_data"
    }
   ],
   "source": [
    "sjc = df.query('municipio == \"São José dos Campos\"')\n",
    "sjc.tail(10).plot(kind='bar', title = 'Casos novos em SJC',\n",
    "        x='data', y='casosNovos')"
   ]
  },
  {
   "cell_type": "code",
   "execution_count": 35,
   "metadata": {},
   "outputs": [
    {
     "data": {
      "text/plain": [
       "<matplotlib.axes._subplots.AxesSubplot at 0x18bbf550>"
      ]
     },
     "execution_count": 35,
     "metadata": {},
     "output_type": "execute_result"
    },
    {
     "data": {
      "image/png": "[encoded data removed]",
      "text/plain": [
       "<Figure size 432x288 with 1 Axes>"
      ]
     },
     "metadata": {
      "needs_background": "light"
     },
     "output_type": "display_data"
    }
   ],
   "source": [
    "sp.groupby('semanaEpi')['casosNovos'].sum().plot(kind='bar',title = 'Casos novos por semana')"
   ]
  },
  {
   "cell_type": "code",
   "execution_count": 57,
   "metadata": {},
   "outputs": [
    {
     "data": {
      "text/plain": [
       "<matplotlib.axes._subplots.AxesSubplot at 0x17f88f88>"
      ]
     },
     "execution_count": 57,
     "metadata": {},
     "output_type": "execute_result"
    },
    {
     "data": {
      "image/png": "[encoded data removed]",
      "text/plain": [
       "<Figure size 432x288 with 1 Axes>"
      ]
     },
     "metadata": {
      "needs_background": "light"
     },
     "output_type": "display_data"
    }
   ],
   "source": [
    "sjc = df.query('municipio == \"Taubaté\"')\n",
    "sjc.tail(10).plot(kind='bar', title = 'Casos novos em Taubaté',\n",
    "        x='data', y='casosNovos')"
   ]
  }
 ],
 "metadata": {
  "kernelspec": {
   "display_name": "Python 3",
   "language": "python",
   "name": "python3"
  },
  "language_info": {
   "codemirror_mode": {
    "name": "ipython",
    "version": 3
   },
   "file_extension": ".py",
   "mimetype": "text/x-python",
   "name": "python",
   "nbconvert_exporter": "python",
   "pygments_lexer": "ipython3",
   "version": "3.8.3"
  }
 },
 "nbformat": 4,
 "nbformat_minor": 4
}
